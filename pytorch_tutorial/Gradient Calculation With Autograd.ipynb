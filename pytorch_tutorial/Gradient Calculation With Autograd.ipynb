{
 "cells": [
  {
   "cell_type": "code",
   "execution_count": 9,
   "id": "4f2a03e7",
   "metadata": {},
   "outputs": [
    {
     "name": "stdout",
     "output_type": "stream",
     "text": [
      "tensor([-1.3474,  0.3969,  1.2696], requires_grad=True)\n",
      "tensor([0.6526, 2.3969, 3.2696], grad_fn=<AddBackward0>)\n",
      "tensor(16.8614, grad_fn=<MeanBackward0>)\n",
      "tensor([1.3052, 4.7937, 6.5393])\n"
     ]
    }
   ],
   "source": [
    "import re\n",
    "import torch\n",
    "\n",
    "\n",
    "x = torch.randn(3, requires_grad=True)\n",
    "# requires_grad is set to True, so the gradient will be tracked\n",
    "# when performing operations on the tensor.\n",
    "# The tensor will be created with a random value of size 3.\n",
    "\n",
    "print(x)\n",
    "\n",
    "y = x + 2\n",
    "print(y)\n",
    "\n",
    "z = y * y * 3\n",
    "z = z.mean()\n",
    "print(z)\n",
    "\n",
    "z.backward()\n",
    "# dz/dx is computed and stored in x.grad.\n",
    "# The backward() function computes the gradient of z with respect to x.\n",
    "\n",
    "print(x.grad)\n",
    "# The gradient of z with respect to x is stored in x.grad."
   ]
  },
  {
   "cell_type": "code",
   "execution_count": null,
   "id": "6201c43d",
   "metadata": {},
   "outputs": [],
   "source": []
  }
 ],
 "metadata": {
  "kernelspec": {
   "display_name": ".venv",
   "language": "python",
   "name": "python3"
  },
  "language_info": {
   "codemirror_mode": {
    "name": "ipython",
    "version": 3
   },
   "file_extension": ".py",
   "mimetype": "text/x-python",
   "name": "python",
   "nbconvert_exporter": "python",
   "pygments_lexer": "ipython3",
   "version": "3.13.1"
  }
 },
 "nbformat": 4,
 "nbformat_minor": 5
}
