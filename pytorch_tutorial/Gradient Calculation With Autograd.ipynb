{
 "cells": [
  {
   "cell_type": "code",
   "execution_count": null,
   "id": "4f2a03e7",
   "metadata": {},
   "outputs": [
    {
     "name": "stdout",
     "output_type": "stream",
     "text": [
      "tensor([ 0.1643, -0.1414, -0.1182], requires_grad=True)\n",
      "tensor([2.1643, 1.8586, 1.8818], grad_fn=<AddBackward0>)\n",
      "tensor(11.6799, grad_fn=<MeanBackward0>)\n",
      "tensor([4.3286, 3.7173, 3.7636])\n"
     ]
    }
   ],
   "source": [
    "import re\n",
    "import torch\n",
    "\n",
    "\n",
    "x = torch.randn(3, requires_grad=True)\n",
    "# requires_grad is set to True, so the gradient will be tracked\n",
    "# when performing operations on the tensor.\n",
    "# The tensor will be created with a random value of size 3.\n",
    "\n",
    "print(x)\n",
    "\n",
    "y = x + 2\n",
    "print(y)\n",
    "\n",
    "z = y * y * 3\n",
    "z = z.mean()\n",
    "print(z)\n",
    "\n",
    "z.backward()\n",
    "# dz/dx is computed and stored in x.grad.\n",
    "# The backward() function computes the gradient of z with respect to x, also known as backpropagation.\n",
    "# uses jacobian-vector product also known as the chain rule to compute the gradient of z with respect to x.\n",
    "\n",
    "print(x.grad)\n",
    "# The gradient of z with respect to x is stored in x.grad."
   ]
  },
  {
   "cell_type": "code",
   "execution_count": null,
   "id": "6201c43d",
   "metadata": {},
   "outputs": [
    {
     "name": "stdout",
     "output_type": "stream",
     "text": [
      "tensor([2.1643, 1.8586, 1.8818])\n",
      "tensor([ 0.1643, -0.1414, -0.1182])\n"
     ]
    }
   ],
   "source": [
    "# The gradient is a tensor of the same shape as x, and it contains the partial derivatives of z with respect to each element of x.\n",
    "\n",
    "# prevent python from tracking history\n",
    "# This is useful when you want to perform operations on tensors without tracking gradients, such as during inference or when you don't need to compute gradients.\n",
    "\n",
    "# there are two ways to do this:\n",
    "# 1. use torch.no_grad() context manager\n",
    "# The torch.no_grad() context manager temporarily sets all requires_grad flags to false, so that operations performed within the block do not track gradients.\n",
    "# This is useful for inference or when you want to perform operations without tracking gradients.\n",
    "with torch.no_grad():\n",
    "    y = x + 2\n",
    "    print(y)\n",
    "\n",
    "# 2. use the detach() method\n",
    "# The detach() method creates a new tensor that shares the same data as the original tensor but does not require gradients.\n",
    "# This means that any operations performed on the detached tensor will not be tracked for gradient computation.\n",
    "\n",
    "# can also use y.require_grad_(False) to set requires_grad to False\n",
    "# This will not affect the original tensor x, but it will create a new tensor y that does not require gradients.\n",
    "\n",
    "y = x.detach()\n",
    "print(y)"
   ]
  },
  {
   "cell_type": "code",
   "execution_count": null,
   "id": "eda9823d",
   "metadata": {},
   "outputs": [],
   "source": []
  }
 ],
 "metadata": {
  "kernelspec": {
   "display_name": ".venv",
   "language": "python",
   "name": "python3"
  },
  "language_info": {
   "codemirror_mode": {
    "name": "ipython",
    "version": 3
   },
   "file_extension": ".py",
   "mimetype": "text/x-python",
   "name": "python",
   "nbconvert_exporter": "python",
   "pygments_lexer": "ipython3",
   "version": "3.13.1"
  }
 },
 "nbformat": 4,
 "nbformat_minor": 5
}
