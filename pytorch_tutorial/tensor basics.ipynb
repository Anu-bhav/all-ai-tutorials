{
 "cells": [
  {
   "cell_type": "code",
   "execution_count": 1,
   "id": "76ab17ca",
   "metadata": {},
   "outputs": [],
   "source": [
    "import torch"
   ]
  },
  {
   "cell_type": "code",
   "execution_count": 2,
   "id": "a0b6f170",
   "metadata": {},
   "outputs": [
    {
     "name": "stdout",
     "output_type": "stream",
     "text": [
      "tensor([[       nan, 1.1393e-42, 0.0000e+00],\n",
      "        [0.0000e+00, 0.0000e+00, 0.0000e+00]])\n"
     ]
    }
   ],
   "source": [
    "x = torch.empty((2, 3))\n",
    "# torch.empty creates an uninitialized tensor of the given size\n",
    "# The values in the tensor are not set to zero or any other value\n",
    "print(x)"
   ]
  },
  {
   "cell_type": "code",
   "execution_count": 3,
   "id": "143abce3",
   "metadata": {},
   "outputs": [
    {
     "data": {
      "text/plain": [
       "tensor([[0.4388, 0.6992, 0.3051],\n",
       "        [0.4897, 0.0365, 0.1843]])"
      ]
     },
     "execution_count": 3,
     "metadata": {},
     "output_type": "execute_result"
    }
   ],
   "source": [
    "torch.rand(2, 3)\n",
    "# torch.rand(2, 3) is a function that generates a tensor of shape (2, 3) with random values between 0 and 1"
   ]
  },
  {
   "cell_type": "code",
   "execution_count": 4,
   "id": "01427708",
   "metadata": {},
   "outputs": [
    {
     "data": {
      "text/plain": [
       "tensor([[0., 0., 0.],\n",
       "        [0., 0., 0.]])"
      ]
     },
     "execution_count": 4,
     "metadata": {},
     "output_type": "execute_result"
    }
   ],
   "source": [
    "torch.zeros(2, 3)\n",
    "# torch.zeros(2, 3) is a function that generates a tensor of shape (2, 3) filled with zeros"
   ]
  },
  {
   "cell_type": "code",
   "execution_count": 5,
   "id": "39ab9b83",
   "metadata": {},
   "outputs": [
    {
     "data": {
      "text/plain": [
       "tensor([[1., 1., 1.],\n",
       "        [1., 1., 1.]])"
      ]
     },
     "execution_count": 5,
     "metadata": {},
     "output_type": "execute_result"
    }
   ],
   "source": [
    "torch.ones(2, 3)\n",
    "# torch.ones() is a function that generates a tensor filled with ones"
   ]
  },
  {
   "cell_type": "code",
   "execution_count": 6,
   "id": "203845be",
   "metadata": {},
   "outputs": [
    {
     "name": "stdout",
     "output_type": "stream",
     "text": [
      "torch.int32\n",
      "torch.Size([2, 3])\n"
     ]
    }
   ],
   "source": [
    "x = torch.ones(2, 3, dtype=torch.int)\n",
    "# torch.ones(2, 3, dtype=torch.int) is a function that generates a tensor of shape (2, 3) filled with ones and of type int\n",
    "print(x.dtype)\n",
    "# torch.int is an alias for torch.int32, which is a 32-bit integer type\n",
    "# can be double/float, int, etc.\n",
    "# torch.float is an alias for torch.float32, which is a 32-bit floating point type or even float16, etc.\n",
    "# torch.double is an alias for torch.float64, which is a 64-bit floating point type\n",
    "print(x.size())\n",
    "# x.size() returns the size of the tensor, which is (2, 3) in this case"
   ]
  },
  {
   "cell_type": "code",
   "execution_count": 7,
   "id": "d5cfddcf",
   "metadata": {},
   "outputs": [
    {
     "name": "stdout",
     "output_type": "stream",
     "text": [
      "tensor([[1, 2],\n",
      "        [3, 4]])\n"
     ]
    }
   ],
   "source": [
    "x = torch.tensor([[1, 2], [3, 4]])\n",
    "# torch.tensor([[1, 2], [3, 4]]) creates a tensor from the given list of lists\n",
    "print(x)"
   ]
  },
  {
   "cell_type": "code",
   "execution_count": 8,
   "id": "d269f873",
   "metadata": {},
   "outputs": [
    {
     "name": "stdout",
     "output_type": "stream",
     "text": [
      "tensor([[-0.5648,  0.6244],\n",
      "        [ 1.2316, -0.2947]])\n",
      "tensor([[ 0.4548,  0.3233],\n",
      "        [ 0.7920, -1.8765]])\n",
      "tensor([[-0.1100,  0.9477],\n",
      "        [ 2.0236, -2.1713]])\n"
     ]
    }
   ],
   "source": [
    "x = torch.randn(2, 2)\n",
    "y = torch.randn(2, 2)\n",
    "print(x)\n",
    "print(y)\n",
    "z = x + y\n",
    "z = torch.add(x, y)\n",
    "# operations are add, sub, mul, div, etc.\n",
    "# torch.add(x, y) adds the two tensors x and y element-wise\n",
    "print(z)\n",
    "# The above code creates two random tensors x and y of shape (2, 2) and adds them together to create a new tensor z"
   ]
  },
  {
   "cell_type": "code",
   "execution_count": 9,
   "id": "1e16a26d",
   "metadata": {},
   "outputs": [
    {
     "data": {
      "text/plain": [
       "tensor([[-0.1100,  0.9477],\n",
       "        [ 2.0236, -2.1713]])"
      ]
     },
     "execution_count": 9,
     "metadata": {},
     "output_type": "execute_result"
    }
   ],
   "source": [
    "y.add_(x)\n",
    "# The underscore at the end of the function name indicates that this operation modifies y in place\n",
    "\n",
    "# in pytorch all functions that modify the tensor in place have an underscore at the end of the function name"
   ]
  },
  {
   "cell_type": "code",
   "execution_count": 10,
   "id": "6bb3c8ec",
   "metadata": {},
   "outputs": [
    {
     "name": "stdout",
     "output_type": "stream",
     "text": [
      "tensor([ 0.4450,  0.1358, -1.4050])\n",
      "tensor([0.4450, 0.1330])\n",
      "tensor([ 0.4450,  0.1358, -1.4050])\n",
      "tensor(0.4450)\n",
      "0.44496411085128784\n"
     ]
    }
   ],
   "source": [
    "x = torch.randn(2, 3)\n",
    "# torch.randn(2, 3, 4) creates a tensor of shape (2, 3, 4) with random values from a normal distribution with mean 0 and variance 1\n",
    "# now tensor slicing\n",
    "print(x[0])\n",
    "# x[0] selects the first slice of the tensor x along the first dimension (0th dimension)\n",
    "print(x[:, 0])\n",
    "# x[:, 0] selects all rows and the first column of the tensor x\n",
    "print(x[0, :])\n",
    "# x[0, :] selects the first row and all columns of the tensor x\n",
    "print(x[0, 0])\n",
    "# x[0, 0] selects the first element of the first row of the tensor x\n",
    "print(x[0, 0].item())\n",
    "# x[0, 0].item() returns the value of the first element of the first row of the tensor x as a Python number\n",
    "# The item() method is used to convert a single-element tensor to a Python number\n"
   ]
  },
  {
   "cell_type": "code",
   "execution_count": 12,
   "id": "ff89ab21",
   "metadata": {},
   "outputs": [
    {
     "name": "stdout",
     "output_type": "stream",
     "text": [
      "tensor([[ 0.9008,  2.4073, -0.8396,  0.8952],\n",
      "        [ 0.8994, -0.7621, -1.7258, -0.6819],\n",
      "        [-0.3047,  0.6303, -2.2109, -0.0230],\n",
      "        [ 0.2382,  1.4029, -1.0571, -1.2036]])\n",
      "torch.Size([4, 4])\n",
      "tensor([ 0.9008,  2.4073, -0.8396,  0.8952,  0.8994, -0.7621, -1.7258, -0.6819,\n",
      "        -0.3047,  0.6303, -2.2109, -0.0230,  0.2382,  1.4029, -1.0571, -1.2036])\n",
      "torch.Size([16])\n",
      "tensor([[ 0.9008,  2.4073, -0.8396,  0.8952,  0.8994, -0.7621, -1.7258, -0.6819],\n",
      "        [-0.3047,  0.6303, -2.2109, -0.0230,  0.2382,  1.4029, -1.0571, -1.2036]])\n",
      "torch.Size([2, 8])\n"
     ]
    }
   ],
   "source": [
    "# Reshaping tensors\n",
    "x = torch.randn(4, 4)\n",
    "print(x)\n",
    "print(x.size())\n",
    "# x.size() returns the size of the tensor, which is (4, 4) in this case\n",
    "\n",
    "y = x.view(16)\n",
    "# x.view(16) reshapes the tensor x to a 1D tensor of size 16\n",
    "print(y)\n",
    "print(y.size())\n",
    "\n",
    "\n",
    "y = x.view(-1, 8)\n",
    "# x.view(-1, 8) reshapes the tensor x to a 2D tensor with 8 columns and as many rows as needed to accommodate all elements of x\n",
    "# The -1 indicates that the number of rows should be inferred from the total number of elements in x\n",
    "print(y)\n",
    "print(y.size())\n",
    "# The view() method is used to reshape a tensor without changing its data"
   ]
  },
  {
   "cell_type": "code",
   "execution_count": 14,
   "id": "cc1dc4c3",
   "metadata": {},
   "outputs": [],
   "source": [
    "import numpy as np"
   ]
  },
  {
   "cell_type": "code",
   "execution_count": 16,
   "id": "a4f6a456",
   "metadata": {},
   "outputs": [
    {
     "name": "stdout",
     "output_type": "stream",
     "text": [
      "tensor([1., 1., 1., 1., 1.])\n",
      "[1. 1. 1. 1. 1.]\n",
      "<class 'numpy.ndarray'>\n",
      "tensor([2., 2., 2., 2., 2.])\n",
      "[2. 2. 2. 2. 2.]\n"
     ]
    }
   ],
   "source": [
    "a = torch.ones(5)\n",
    "print(a)\n",
    "b = a.numpy()\n",
    "# a.numpy() converts the tensor a to a NumPy array\n",
    "print(b)\n",
    "print(type(b))\n",
    "# The type of b is numpy.ndarray, which is a NumPy array\n",
    "\n",
    "# if you modify the NumPy array, the original tensor is also modified if on cpu\n",
    "\n",
    "a.add_(1)\n",
    "# a.add_(1) adds 1 to each element of the tensor a in place\n",
    "print(a)\n",
    "print(b)"
   ]
  },
  {
   "cell_type": "code",
   "execution_count": 26,
   "id": "af69118c",
   "metadata": {},
   "outputs": [
    {
     "name": "stdout",
     "output_type": "stream",
     "text": [
      "[1. 1. 1. 1. 1.]\n",
      "tensor([1., 1., 1., 1., 1.], dtype=torch.float64)\n",
      "<class 'torch.Tensor'>\n",
      "[2. 2. 2. 2. 2.]\n",
      "tensor([2., 2., 2., 2., 2.], dtype=torch.float64)\n"
     ]
    }
   ],
   "source": [
    "from numpy import dtype\n",
    "\n",
    "\n",
    "a = np.ones(5)\n",
    "# a = np.ones(5) creates a NumPy array of shape (5,) filled with ones\n",
    "print(a)\n",
    "b = torch.from_numpy(a)\n",
    "# torch.from_numpy(a) converts the NumPy array a to a PyTorch tensor\n",
    "print(b)\n",
    "print(type(b))\n",
    "# The type of b is torch.Tensor, which is a PyTorch tensor\n",
    "\n",
    "a += 1\n",
    "# a += 1 adds 1 to each element of the NumPy array a in place\n",
    "# if you modify the NumPy array, the original tensor is also modified if on cpu\n",
    "\n",
    "print(a)\n",
    "print(b)"
   ]
  },
  {
   "cell_type": "code",
   "execution_count": 27,
   "id": "7689e778",
   "metadata": {},
   "outputs": [
    {
     "name": "stdout",
     "output_type": "stream",
     "text": [
      "Using GPU\n"
     ]
    }
   ],
   "source": [
    "if torch.cuda.is_available():\n",
    "    device = torch.device(\"cuda\")\n",
    "    # If a GPU is available, use it\n",
    "    print(\"Using GPU\")\n",
    "else:\n",
    "    device = torch.device(\"cpu\")\n",
    "    # Otherwise, use the CPU\n",
    "    print(\"Using CPU\")"
   ]
  },
  {
   "cell_type": "code",
   "execution_count": 30,
   "id": "c107c7e8",
   "metadata": {},
   "outputs": [
    {
     "name": "stdout",
     "output_type": "stream",
     "text": [
      "tensor([1., 1., 1., 1., 1.], device='cuda:0')\n",
      "tensor([0.7342, 0.5863, 0.1364, 0.2049, 0.1198], device='cuda:0')\n",
      "tensor([0.2434, 0.5990, 0.3010, 0.8141, 0.2427])\n",
      "tensor([0.2434, 0.5990, 0.3010, 0.8141, 0.2427], device='cuda:0')\n"
     ]
    }
   ],
   "source": [
    "x = torch.ones(5, device=device)\n",
    "# torch.ones(5, device=device) creates a tensor of shape (5,) filled with ones on the specified device (GPU or CPU)\n",
    "y = torch.rand(5, device=device)\n",
    "# torch.rand(5, device=device) creates a tensor of shape (5,) with random values between 0 and 1 on the specified device (GPU or CPU)\n",
    "print(x)\n",
    "print(y)\n",
    "\n",
    "x = torch.rand(5)\n",
    "print(x)\n",
    "# torch.rand(5) creates a tensor of shape (5,) with random values between 0 and 1 on the CPU\n",
    "x = x.to(device)\n",
    "# x.to(device) moves the tensor x to the specified device (GPU or CPU)\n",
    "print(x)\n"
   ]
  },
  {
   "cell_type": "code",
   "execution_count": null,
   "id": "dd943911",
   "metadata": {},
   "outputs": [
    {
     "name": "stdout",
     "output_type": "stream",
     "text": [
      "tensor([0.9776, 1.1853, 0.4374, 1.0190, 0.3625], device='cuda:0')\n",
      "[0.977608   1.1853275  0.43738395 1.0190475  0.3625039 ]\n"
     ]
    }
   ],
   "source": [
    "z = x + y\n",
    "# z = x + y adds the two tensors x and y element-wise on the specified device (GPU)\n",
    "print(z)\n",
    "# The above code creates two tensors x and y on the specified device (GPU) and adds them together to create a new tensor z\n",
    "# The addition is performed on the specified device (GPU) as well\n",
    "# The result is a new tensor z on the same device as x and y\n",
    "# z.numpy() will not work if z is on GPU, it will throw an error\n",
    "# You need to move it to CPU first\n",
    "z = z.to(\"cpu\")\n",
    "# z.to(\"cpu\") moves the tensor z to the CPU\n",
    "print(z.numpy())\n",
    "# z.numpy() converts the tensor z to a NumPy array"
   ]
  },
  {
   "cell_type": "code",
   "execution_count": null,
   "id": "1fea3537",
   "metadata": {},
   "outputs": [],
   "source": []
  }
 ],
 "metadata": {
  "kernelspec": {
   "display_name": ".venv",
   "language": "python",
   "name": "python3"
  },
  "language_info": {
   "codemirror_mode": {
    "name": "ipython",
    "version": 3
   },
   "file_extension": ".py",
   "mimetype": "text/x-python",
   "name": "python",
   "nbconvert_exporter": "python",
   "pygments_lexer": "ipython3",
   "version": "3.13.1"
  }
 },
 "nbformat": 4,
 "nbformat_minor": 5
}
