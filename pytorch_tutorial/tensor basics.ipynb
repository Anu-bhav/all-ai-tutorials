{
 "cells": [
  {
   "cell_type": "code",
   "execution_count": 2,
   "id": "76ab17ca",
   "metadata": {},
   "outputs": [],
   "source": [
    "import torch"
   ]
  },
  {
   "cell_type": "code",
   "execution_count": 3,
   "id": "a0b6f170",
   "metadata": {},
   "outputs": [
    {
     "name": "stdout",
     "output_type": "stream",
     "text": [
      "tensor([[5.7798e-34, 1.4433e-42, 0.0000e+00],\n",
      "        [0.0000e+00, 0.0000e+00, 0.0000e+00]])\n"
     ]
    }
   ],
   "source": [
    "x = torch.empty((2, 3))\n",
    "# torch.empty creates an uninitialized tensor of the given size\n",
    "# The values in the tensor are not set to zero or any other value\n",
    "print(x)"
   ]
  },
  {
   "cell_type": "code",
   "execution_count": 4,
   "id": "143abce3",
   "metadata": {},
   "outputs": [
    {
     "data": {
      "text/plain": [
       "tensor([[0.5249, 0.4773, 0.8245],\n",
       "        [0.5138, 0.4193, 0.1511]])"
      ]
     },
     "execution_count": 4,
     "metadata": {},
     "output_type": "execute_result"
    }
   ],
   "source": [
    "torch.rand(2, 3)\n",
    "# torch.rand(2, 3) is a function that generates a tensor of shape (2, 3) with random values between 0 and 1"
   ]
  },
  {
   "cell_type": "code",
   "execution_count": 5,
   "id": "01427708",
   "metadata": {},
   "outputs": [
    {
     "data": {
      "text/plain": [
       "tensor([[0., 0., 0.],\n",
       "        [0., 0., 0.]])"
      ]
     },
     "execution_count": 5,
     "metadata": {},
     "output_type": "execute_result"
    }
   ],
   "source": [
    "torch.zeros(2, 3)\n",
    "# torch.zeros(2, 3) is a function that generates a tensor of shape (2, 3) filled with zeros"
   ]
  },
  {
   "cell_type": "code",
   "execution_count": 6,
   "id": "39ab9b83",
   "metadata": {},
   "outputs": [
    {
     "data": {
      "text/plain": [
       "tensor([[1., 1., 1.],\n",
       "        [1., 1., 1.]])"
      ]
     },
     "execution_count": 6,
     "metadata": {},
     "output_type": "execute_result"
    }
   ],
   "source": [
    "torch.ones(2, 3)\n",
    "# torch.ones() is a function that generates a tensor filled with ones"
   ]
  },
  {
   "cell_type": "code",
   "execution_count": 7,
   "id": "203845be",
   "metadata": {},
   "outputs": [
    {
     "name": "stdout",
     "output_type": "stream",
     "text": [
      "torch.int32\n",
      "torch.Size([2, 3])\n"
     ]
    }
   ],
   "source": [
    "x = torch.ones(2, 3, dtype=torch.int)\n",
    "# torch.ones(2, 3, dtype=torch.int) is a function that generates a tensor of shape (2, 3) filled with ones and of type int\n",
    "print(x.dtype)\n",
    "# torch.int is an alias for torch.int32, which is a 32-bit integer type\n",
    "# can be double/float, int, etc.\n",
    "# torch.float is an alias for torch.float32, which is a 32-bit floating point type or even float16, etc.\n",
    "# torch.double is an alias for torch.float64, which is a 64-bit floating point type\n",
    "print(x.size())\n",
    "# x.size() returns the size of the tensor, which is (2, 3) in this case"
   ]
  },
  {
   "cell_type": "code",
   "execution_count": 8,
   "id": "d5cfddcf",
   "metadata": {},
   "outputs": [
    {
     "name": "stdout",
     "output_type": "stream",
     "text": [
      "tensor([[1, 2],\n",
      "        [3, 4]])\n"
     ]
    }
   ],
   "source": [
    "x = torch.tensor([[1, 2], [3, 4]])\n",
    "# torch.tensor([[1, 2], [3, 4]]) creates a tensor from the given list of lists\n",
    "print(x)"
   ]
  },
  {
   "cell_type": "code",
   "execution_count": 9,
   "id": "d269f873",
   "metadata": {},
   "outputs": [
    {
     "name": "stdout",
     "output_type": "stream",
     "text": [
      "tensor([[-2.4501, -0.1427],\n",
      "        [ 0.2458,  0.3241]])\n",
      "tensor([[-1.0280, -1.4475],\n",
      "        [ 1.1182, -1.4058]])\n",
      "tensor([[-3.4781, -1.5903],\n",
      "        [ 1.3640, -1.0817]])\n"
     ]
    }
   ],
   "source": [
    "x = torch.randn(2, 2)\n",
    "y = torch.randn(2, 2)\n",
    "print(x)\n",
    "print(y)\n",
    "z = x + y\n",
    "z = torch.add(x, y)\n",
    "# operations are add, sub, mul, div, etc.\n",
    "# torch.add(x, y) adds the two tensors x and y element-wise\n",
    "print(z)\n",
    "# The above code creates two random tensors x and y of shape (2, 2) and adds them together to create a new tensor z"
   ]
  },
  {
   "cell_type": "code",
   "execution_count": 10,
   "id": "1e16a26d",
   "metadata": {},
   "outputs": [
    {
     "data": {
      "text/plain": [
       "tensor([[-3.4781, -1.5903],\n",
       "        [ 1.3640, -1.0817]])"
      ]
     },
     "execution_count": 10,
     "metadata": {},
     "output_type": "execute_result"
    }
   ],
   "source": [
    "y.add_(x)\n",
    "# The underscore at the end of the function name indicates that this operation modifies y in place\n",
    "\n",
    "# in pytorch all functions that modify the tensor in place have an underscore at the end of the function name"
   ]
  },
  {
   "cell_type": "code",
   "execution_count": 11,
   "id": "6bb3c8ec",
   "metadata": {},
   "outputs": [
    {
     "name": "stdout",
     "output_type": "stream",
     "text": [
      "tensor([ 0.3762, -0.9219, -0.8240])\n",
      "tensor([0.3762, 0.2794])\n",
      "tensor([ 0.3762, -0.9219, -0.8240])\n",
      "tensor(0.3762)\n",
      "0.37617406249046326\n"
     ]
    }
   ],
   "source": [
    "x = torch.randn(2, 3)\n",
    "# torch.randn(2, 3, 4) creates a tensor of shape (2, 3, 4) with random values from a normal distribution with mean 0 and variance 1\n",
    "# now tensor slicing\n",
    "print(x[0])\n",
    "# x[0] selects the first slice of the tensor x along the first dimension (0th dimension)\n",
    "print(x[:, 0])\n",
    "# x[:, 0] selects all rows and the first column of the tensor x\n",
    "print(x[0, :])\n",
    "# x[0, :] selects the first row and all columns of the tensor x\n",
    "print(x[0, 0])\n",
    "# x[0, 0] selects the first element of the first row of the tensor x\n",
    "print(x[0, 0].item())\n",
    "# x[0, 0].item() returns the value of the first element of the first row of the tensor x as a Python number\n",
    "# The item() method is used to convert a single-element tensor to a Python number\n"
   ]
  },
  {
   "cell_type": "code",
   "execution_count": null,
   "id": "ff89ab21",
   "metadata": {},
   "outputs": [
    {
     "name": "stdout",
     "output_type": "stream",
     "text": [
      "tensor([[-1.8844, -0.5562, -0.1677, -0.9045],\n",
      "        [-1.0257, -0.3969,  0.1745,  0.5870],\n",
      "        [ 0.3564,  1.2664, -0.2986, -0.2939],\n",
      "        [ 1.2785, -0.0758,  1.3330,  0.5810]])\n",
      "tensor([-1.8844, -0.5562, -0.1677, -0.9045, -1.0257, -0.3969,  0.1745,  0.5870,\n",
      "         0.3564,  1.2664, -0.2986, -0.2939,  1.2785, -0.0758,  1.3330,  0.5810])\n",
      "torch.Size([16])\n",
      "tensor([[-1.8844, -0.5562, -0.1677, -0.9045, -1.0257, -0.3969,  0.1745,  0.5870],\n",
      "        [ 0.3564,  1.2664, -0.2986, -0.2939,  1.2785, -0.0758,  1.3330,  0.5810]])\n",
      "torch.Size([2, 8])\n"
     ]
    }
   ],
   "source": [
    "# Reshaping tensors\n",
    "x = torch.randn(4, 4)\n",
    "print(x)\n",
    "print(x.view(16))\n",
    "y = x.view(16)\n",
    "# x.view(16) reshapes the tensor x to a 1D tensor of size 16\n",
    "print(y)\n",
    "print(y.size())\n",
    "y = x.view(-1, 8)\n",
    "# x.view(-1, 8) reshapes the tensor x to a 2D tensor with 8 columns and as many rows as needed to accommodate all elements of x\n",
    "# The -1 indicates that the number of rows should be inferred from the total number of elements in x\n",
    "print(y)\n",
    "print(y.size())\n",
    "# The view() method is used to reshape a tensor without changing its data"
   ]
  },
  {
   "cell_type": "code",
   "execution_count": null,
   "id": "cc1dc4c3",
   "metadata": {},
   "outputs": [],
   "source": []
  }
 ],
 "metadata": {
  "kernelspec": {
   "display_name": ".venv",
   "language": "python",
   "name": "python3"
  },
  "language_info": {
   "codemirror_mode": {
    "name": "ipython",
    "version": 3
   },
   "file_extension": ".py",
   "mimetype": "text/x-python",
   "name": "python",
   "nbconvert_exporter": "python",
   "pygments_lexer": "ipython3",
   "version": "3.13.1"
  }
 },
 "nbformat": 4,
 "nbformat_minor": 5
}
