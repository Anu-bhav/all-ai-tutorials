{
 "cells": [
  {
   "cell_type": "code",
   "execution_count": 3,
   "id": "76ab17ca",
   "metadata": {},
   "outputs": [],
   "source": [
    "import torch"
   ]
  },
  {
   "cell_type": "code",
   "execution_count": null,
   "id": "a0b6f170",
   "metadata": {},
   "outputs": [
    {
     "name": "stdout",
     "output_type": "stream",
     "text": [
      "tensor([[0., 0., 0.],\n",
      "        [0., 0., 0.]])\n"
     ]
    }
   ],
   "source": [
    "x = torch.empty((2, 3))\n",
    "# torch.empty creates an uninitialized tensor of the given size\n",
    "# The values in the tensor are not set to zero or any other value\n",
    "print(x)"
   ]
  },
  {
   "cell_type": "code",
   "execution_count": 8,
   "id": "143abce3",
   "metadata": {},
   "outputs": [
    {
     "data": {
      "text/plain": [
       "tensor([[0.9873, 0.2139, 0.1368],\n",
       "        [0.7794, 0.1619, 0.2240]])"
      ]
     },
     "execution_count": 8,
     "metadata": {},
     "output_type": "execute_result"
    }
   ],
   "source": [
    "torch.rand(2, 3)\n",
    "# torch.rand(2, 3) is a function that generates a tensor of shape (2, 3) with random values between 0 and 1"
   ]
  },
  {
   "cell_type": "code",
   "execution_count": 10,
   "id": "01427708",
   "metadata": {},
   "outputs": [
    {
     "data": {
      "text/plain": [
       "tensor([[0., 0., 0.],\n",
       "        [0., 0., 0.]])"
      ]
     },
     "execution_count": 10,
     "metadata": {},
     "output_type": "execute_result"
    }
   ],
   "source": [
    "torch.zeros(2, 3)\n",
    "# torch.zeros(2, 3) is a function that generates a tensor of shape (2, 3) filled with zeros"
   ]
  },
  {
   "cell_type": "code",
   "execution_count": 12,
   "id": "39ab9b83",
   "metadata": {},
   "outputs": [
    {
     "data": {
      "text/plain": [
       "tensor([[1., 1., 1.],\n",
       "        [1., 1., 1.]])"
      ]
     },
     "execution_count": 12,
     "metadata": {},
     "output_type": "execute_result"
    }
   ],
   "source": [
    "torch.ones(2, 3)\n",
    "# torch.ones() is a function that generates a tensor filled with ones"
   ]
  },
  {
   "cell_type": "code",
   "execution_count": 17,
   "id": "203845be",
   "metadata": {},
   "outputs": [
    {
     "name": "stdout",
     "output_type": "stream",
     "text": [
      "torch.int32\n",
      "torch.Size([2, 3])\n"
     ]
    }
   ],
   "source": [
    "x = torch.ones(2, 3, dtype=torch.int)\n",
    "# torch.ones(2, 3, dtype=torch.int) is a function that generates a tensor of shape (2, 3) filled with ones and of type int\n",
    "print(x.dtype)\n",
    "# torch.int is an alias for torch.int32, which is a 32-bit integer type\n",
    "# can be double/float, int, etc.\n",
    "# torch.float is an alias for torch.float32, which is a 32-bit floating point type or even float16, etc.\n",
    "# torch.double is an alias for torch.float64, which is a 64-bit floating point type\n",
    "print(x.size())\n",
    "# x.size() returns the size of the tensor, which is (2, 3) in this case"
   ]
  },
  {
   "cell_type": "code",
   "execution_count": 18,
   "id": "d5cfddcf",
   "metadata": {},
   "outputs": [
    {
     "name": "stdout",
     "output_type": "stream",
     "text": [
      "tensor([[1, 2],\n",
      "        [3, 4]])\n"
     ]
    }
   ],
   "source": [
    "x = torch.tensor([[1, 2], [3, 4]])\n",
    "# torch.tensor([[1, 2], [3, 4]]) creates a tensor from the given list of lists\n",
    "print(x)"
   ]
  },
  {
   "cell_type": "code",
   "execution_count": null,
   "id": "d269f873",
   "metadata": {},
   "outputs": [
    {
     "name": "stdout",
     "output_type": "stream",
     "text": [
      "tensor([[ 0.3686,  0.9801],\n",
      "        [-0.5222,  0.6155]])\n",
      "tensor([[ 2.1255,  1.8262],\n",
      "        [-0.3254, -0.0393]])\n",
      "tensor([[ 2.4940,  2.8063],\n",
      "        [-0.8475,  0.5762]])\n"
     ]
    }
   ],
   "source": [
    "x = torch.randn(2, 2)\n",
    "y = torch.randn(2, 2)\n",
    "print(x)\n",
    "print(y)\n",
    "z = x + y\n",
    "z = torch.add(x, y)\n",
    "# operations are add, sub, mul, div, etc.\n",
    "# torch.add(x, y) adds the two tensors x and y element-wise\n",
    "print(z)\n",
    "# The above code creates two random tensors x and y of shape (2, 2) and adds them together to create a new tensor z"
   ]
  },
  {
   "cell_type": "code",
   "execution_count": null,
   "id": "1e16a26d",
   "metadata": {},
   "outputs": [
    {
     "data": {
      "text/plain": [
       "tensor([[ 2.8626,  3.7864],\n",
       "        [-1.3697,  1.1917]])"
      ]
     },
     "execution_count": 23,
     "metadata": {},
     "output_type": "execute_result"
    }
   ],
   "source": [
    "y.add_(x)\n",
    "# The underscore at the end of the function name indicates that this operation modifies y in place\n",
    "\n",
    "# in pytorch all functions that modify the tensor in place have an underscore at the end of the function name"
   ]
  },
  {
   "cell_type": "code",
   "execution_count": null,
   "id": "6bb3c8ec",
   "metadata": {},
   "outputs": [],
   "source": [
    "x = torch.randn(2, 3, 4)\n",
    "# torch.randn(2, 3, 4) creates a tensor of shape (2, 3, 4) with random values from a normal distribution with mean 0 and variance 1"
   ]
  }
 ],
 "metadata": {
  "kernelspec": {
   "display_name": ".venv",
   "language": "python",
   "name": "python3"
  },
  "language_info": {
   "codemirror_mode": {
    "name": "ipython",
    "version": 3
   },
   "file_extension": ".py",
   "mimetype": "text/x-python",
   "name": "python",
   "nbconvert_exporter": "python",
   "pygments_lexer": "ipython3",
   "version": "3.13.1"
  }
 },
 "nbformat": 4,
 "nbformat_minor": 5
}
