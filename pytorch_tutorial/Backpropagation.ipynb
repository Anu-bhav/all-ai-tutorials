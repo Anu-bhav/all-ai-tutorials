{
 "cells": [
  {
   "cell_type": "code",
   "execution_count": null,
   "id": "00e519c2",
   "metadata": {},
   "outputs": [],
   "source": [
    "# CHAIN RULE: x --> [a(x)] --> y --> [b(y)] --> z\n",
    "# dy/dx = dy/da * da/dx\n",
    "# dz/dy = dz/db * db/dy\n",
    "\n",
    "# first calculate--> dy/dx , then calculate--> dz/dy\n",
    "# atlast calculate final gradient: dz/dx = dy/dx * dz/dy\n",
    "\n",
    "\n",
    "# COMPUTATIONAL GRAPH: having inputs , operator (having function) , output\n",
    "\n",
    "# 3 important things: [1] Forward Pass : compute loss , [2] Compute local gradients, [3] Backward pass : compute dLoss/dWeights using the chain rule.\n",
    "\n",
    "\n",
    "\"\"\"let, x(i/p) * w(weights)  = y' (o/p) and  y --> actual y\n",
    "      [1]  loss = (y' - y)**2 = (wx - y)**2\n",
    "      [2]  calculate local (intermediate) gradients at each node (dloss/ds,ds/dy',dy'/dw)\n",
    "      [3]  use chain rule, dloss/ds * ds/dy' --> dloss/dy'*dy'/dw ---> dloss/dw [final gradient]\n",
    "\n",
    "      so, finally we have to minimize loss by updating weights.\"\"\""
   ]
  },
  {
   "cell_type": "code",
   "execution_count": 12,
   "id": "cd174438",
   "metadata": {},
   "outputs": [
    {
     "name": "stdout",
     "output_type": "stream",
     "text": [
      "loss: 1.0\n"
     ]
    }
   ],
   "source": [
    "import torch\n",
    "\n",
    "x = torch.tensor(1.0)\n",
    "y = torch.tensor(2.0)\n",
    "\n",
    "w = torch.tensor(1.0, requires_grad=True)\n",
    "\n",
    "# forward pass and compute loss\n",
    "y_hat = w * x\n",
    "loss = (y_hat - y) ** 2\n",
    "\n",
    "print(f\"loss: {loss.item()}\")"
   ]
  },
  {
   "cell_type": "code",
   "execution_count": 15,
   "id": "6ce5e17c",
   "metadata": {},
   "outputs": [
    {
     "name": "stdout",
     "output_type": "stream",
     "text": [
      "Gradient of loss w: -6.0\n",
      "Updated weight: 1.600000023841858\n"
     ]
    }
   ],
   "source": [
    "# backward pass and compute gradients\n",
    "loss.backward(retain_graph=True)  # retain_graph=True allows multiple backward passes\n",
    "print(f\"Gradient of loss w: {w.grad.item()}\")\n",
    "\n",
    "# update weights using gradient descent\n",
    "with torch.no_grad():\n",
    "    w -= 0.1 * w.grad\n",
    "    w.grad.zero_()  # reset gradients to zero for next iteration\n",
    "\n",
    "print(f\"Updated weight: {w.item()}\")\n",
    "# Note: In a real-world scenario, you would typically use an optimizer from PyTorch's `torch.optim` module to handle weight updates.\n",
    "# This is a simple example to illustrate the concept of backpropagation and gradient descent."
   ]
  },
  {
   "cell_type": "code",
   "execution_count": null,
   "id": "4be59317",
   "metadata": {},
   "outputs": [],
   "source": []
  }
 ],
 "metadata": {
  "kernelspec": {
   "display_name": ".venv",
   "language": "python",
   "name": "python3"
  },
  "language_info": {
   "codemirror_mode": {
    "name": "ipython",
    "version": 3
   },
   "file_extension": ".py",
   "mimetype": "text/x-python",
   "name": "python",
   "nbconvert_exporter": "python",
   "pygments_lexer": "ipython3",
   "version": "3.13.1"
  }
 },
 "nbformat": 4,
 "nbformat_minor": 5
}
