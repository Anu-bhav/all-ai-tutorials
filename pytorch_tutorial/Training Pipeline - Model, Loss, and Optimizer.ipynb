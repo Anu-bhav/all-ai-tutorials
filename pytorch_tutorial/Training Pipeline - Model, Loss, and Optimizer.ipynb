{
 "cells": [
  {
   "cell_type": "code",
   "execution_count": 3,
   "id": "a5971cb5",
   "metadata": {},
   "outputs": [],
   "source": [
    "# 1) Design model (input, output size, forward pass)\n",
    "# 2) Construct loss and optimizer\n",
    "# 3) Training loop\n",
    "#    -> forward pass: compute prediction\n",
    "#    -> backward pass: gradients\n",
    "#    -> update weights\n",
    "#    -> update learning rate (optional)\n",
    "# 4) Test the model (on test set)\n",
    "# 5) Save the model (optional)\n",
    "# 6) Load the model (optional)\n",
    "# 7) Inference (optional)\n",
    "# 8) Visualize (optional)\n",
    "# 9) Hyperparameter tuning (optional)\n",
    "# 10) Deployment (optional)\n",
    "# 11) Documentation (optional)\n",
    "# 12) Version control (optional)\n",
    "# 13) Code review (optional)\n",
    "# 14) Refactoring (optional)\n",
    "# 15) Testing (optional)\n",
    "# 16) Debugging (optional)\n",
    "# 17) Profiling (optional)\n",
    "# 18) Optimization (optional)\n",
    "# 19) Experiment tracking (optional)\n",
    "# 20) Collaboration (optional)\n",
    "\n",
    "import torch\n",
    "import torch.nn as nn\n"
   ]
  },
  {
   "cell_type": "code",
   "execution_count": 4,
   "id": "f19bf16b",
   "metadata": {},
   "outputs": [
    {
     "name": "stdout",
     "output_type": "stream",
     "text": [
      "Epoch 0, Weight: tensor([1.2021], requires_grad=True), Loss: 11.51176929473877\n",
      "Epoch 2, Weight: tensor([1.5145], requires_grad=True), Loss: 4.261088848114014\n",
      "Epoch 4, Weight: tensor([1.7046], requires_grad=True), Loss: 1.577244758605957\n",
      "Epoch 6, Weight: tensor([1.8203], requires_grad=True), Loss: 0.5838179588317871\n",
      "Epoch 8, Weight: tensor([1.8907], requires_grad=True), Loss: 0.21610021591186523\n",
      "Epoch 10, Weight: tensor([1.9335], requires_grad=True), Loss: 0.07998950779438019\n",
      "Epoch 12, Weight: tensor([1.9595], requires_grad=True), Loss: 0.029608095064759254\n",
      "Epoch 14, Weight: tensor([1.9754], requires_grad=True), Loss: 0.010959481820464134\n",
      "Epoch 16, Weight: tensor([1.9850], requires_grad=True), Loss: 0.004056635778397322\n",
      "Epoch 18, Weight: tensor([1.9909], requires_grad=True), Loss: 0.0015015773242339492\n",
      "Epoch 20, Weight: tensor([1.9945], requires_grad=True), Loss: 0.0005558113334700465\n",
      "Epoch 22, Weight: tensor([1.9966], requires_grad=True), Loss: 0.00020573855726979673\n",
      "Epoch 24, Weight: tensor([1.9979], requires_grad=True), Loss: 7.6154618000146e-05\n",
      "Epoch 26, Weight: tensor([1.9988], requires_grad=True), Loss: 2.8184609618620016e-05\n",
      "Epoch 28, Weight: tensor([1.9992], requires_grad=True), Loss: 1.0433961506350897e-05\n",
      "Epoch 30, Weight: tensor([1.9995], requires_grad=True), Loss: 3.862840458168648e-06\n",
      "Epoch 32, Weight: tensor([1.9997], requires_grad=True), Loss: 1.4294746506493539e-06\n",
      "Epoch 34, Weight: tensor([1.9998], requires_grad=True), Loss: 5.292349669616669e-07\n",
      "Epoch 36, Weight: tensor([1.9999], requires_grad=True), Loss: 1.9562257591587695e-07\n",
      "Epoch 38, Weight: tensor([1.9999], requires_grad=True), Loss: 7.256454637172283e-08\n",
      "Epoch 40, Weight: tensor([2.0000], requires_grad=True), Loss: 2.6801956209965283e-08\n",
      "Epoch 42, Weight: tensor([2.0000], requires_grad=True), Loss: 9.95560167638132e-09\n",
      "Epoch 44, Weight: tensor([2.0000], requires_grad=True), Loss: 3.6749638887556557e-09\n",
      "Epoch 46, Weight: tensor([2.0000], requires_grad=True), Loss: 1.3509549035006785e-09\n",
      "Epoch 48, Weight: tensor([2.0000], requires_grad=True), Loss: 5.137422709466932e-10\n"
     ]
    }
   ],
   "source": [
    "x = torch.tensor([1, 2, 3, 4, 5], dtype=torch.float32)\n",
    "y = torch.tensor([2, 4, 6, 8, 10], dtype=torch.float32)\n",
    "\n",
    "# Random weight initialization\n",
    "w = torch.rand(1, dtype=torch.float32, requires_grad=True)\n",
    "\n",
    "\n",
    "def forward(x):\n",
    "    return w * x\n",
    "\n",
    "\n",
    "# Training loop\n",
    "learning_rate = 0.01\n",
    "n_epochs = 50\n",
    "\n",
    "# Mean Squared Error (MSE) loss function\n",
    "loss = nn.MSELoss()\n",
    "# Optimizer (Stochastic Gradient Descent)\n",
    "optimizer = torch.optim.SGD([w], lr=learning_rate)\n",
    "\n",
    "for epoch in range(n_epochs):\n",
    "    # Forward pass\n",
    "    y_pred = forward(x)\n",
    "\n",
    "    # Compute loss\n",
    "    l = loss(y, y_pred)\n",
    "\n",
    "    # Compute gradients using backward pass\n",
    "    l.backward()  # This computes the gradients of the loss w.r.t.(with respect to) the weights\n",
    "\n",
    "    # Update weights\n",
    "    optimizer.step()  # This updates the weights using the computed gradients\n",
    "\n",
    "    # Zero the gradients after updating weights\n",
    "    optimizer.zero_grad()  # This clears the gradients for the next iteration\n",
    "\n",
    "    # Print loss and weight every 2 epochs\n",
    "    if epoch % 2 == 0:\n",
    "        print(f\"Epoch {epoch}, Weight: {w}, Loss: {l}\")"
   ]
  },
  {
   "cell_type": "code",
   "execution_count": 16,
   "id": "501eb260",
   "metadata": {},
   "outputs": [
    {
     "name": "stdout",
     "output_type": "stream",
     "text": [
      "Original x shape: torch.Size([5])\n",
      "Original y shape: torch.Size([5])\n",
      "--------------------\n",
      "x_reshaped shape: torch.Size([5, 1])\n",
      "y_reshaped shape: torch.Size([5, 1])\n",
      "x_reshaped data:\n",
      "tensor([[1.],\n",
      "        [2.],\n",
      "        [3.],\n",
      "        [4.],\n",
      "        [5.]])\n"
     ]
    }
   ],
   "source": [
    "# creating a model now\n",
    "\n",
    "x = torch.tensor([1, 2, 3, 4, 5], dtype=torch.float32)\n",
    "y = torch.tensor([2, 4, 6, 8, 10], dtype=torch.float32)\n",
    "\n",
    "print(f\"Original x shape: {x.shape}\")  # Output: torch.Size([5])\n",
    "print(f\"Original y shape: {y.shape}\")  # Output: torch.Size([5])\n",
    "print(\"-\" * 20)\n",
    "\n",
    "x_reshaped = x.reshape((5, 1))\n",
    "y_reshaped = y.reshape((-1, 1))  # Using -1 for the first dimension is common\n",
    "# when you want to infer the size of that dimension based on the other dimensions.\n",
    "# In this case, it will automatically calculate the size of the first dimension to be 5,\n",
    "# since the second dimension is set to 1.\n",
    "print(f\"x_reshaped shape: {x_reshaped.shape}\")  # Output: torch.Size([5, 1])\n",
    "print(f\"y_reshaped shape: {y_reshaped.shape}\")  # Output: torch.Size([5, 1])\n",
    "print(\"x_reshaped data:\")\n",
    "print(x_reshaped)\n",
    "\n",
    "x = x_reshaped\n",
    "y = y_reshaped\n"
   ]
  },
  {
   "cell_type": "code",
   "execution_count": 54,
   "id": "ada9de35",
   "metadata": {},
   "outputs": [
    {
     "name": "stdout",
     "output_type": "stream",
     "text": [
      "Number of samples: 5, Number of features: 1\n",
      "Input size: 1, Output size: 1\n",
      "Model: Linear(in_features=1, out_features=1, bias=True)\n",
      "x_test shape: torch.Size([1])\n",
      "Prediction: tensor([2.0953], grad_fn=<ViewBackward0>)\n"
     ]
    }
   ],
   "source": [
    "n_samples, n_features = x_reshaped.shape\n",
    "print(f\"Number of samples: {n_samples}, Number of features: {n_features}\")\n",
    "\n",
    "input_size = n_features\n",
    "output_size = n_features\n",
    "print(f\"Input size: {input_size}, Output size: {output_size}\")\n",
    "\n",
    "model = nn.Linear(input_size, output_size)\n",
    "print(f\"Model: {model}\")\n",
    "\n",
    "# x_test = torch.tensor([6, 7, 8], dtype=torch.float32).reshape(-1, 1)\n",
    "x_test = torch.tensor([6], dtype=torch.float32)\n",
    "print(f\"x_test shape: {x_test.shape}\")  # Output: torch.Size([3, 1])\n",
    "\n",
    "print(f\"Prediction: {model(x_test)}\")"
   ]
  },
  {
   "cell_type": "code",
   "execution_count": 55,
   "id": "d0d1b195",
   "metadata": {},
   "outputs": [
    {
     "name": "stdout",
     "output_type": "stream",
     "text": [
      "Epoch 0, Weight: 0.39827966690063477, Bias: -0.2243947833776474, Loss: 30.895681381225586\n",
      "Epoch 1000, Weight: 1.8794525861740112, Bias: 0.4209282696247101, Loss: 0.0326848067343235\n",
      "Epoch 2000, Weight: 1.9886728525161743, Bias: 0.03955388441681862, Loss: 0.00028950293199159205\n",
      "Epoch 3000, Weight: 1.999849796295166, Bias: 0.0005240751197561622, Loss: 5.108037015588707e-08\n",
      "Epoch 4000, Weight: 1.9999984502792358, Bias: 4.5654842324438505e-06, Loss: 4.376943252282217e-12\n",
      "Epoch 5000, Weight: 1.9999990463256836, Bias: 2.842792810042738e-06, Loss: 1.8189894035458565e-12\n",
      "Epoch 6000, Weight: 1.9999994039535522, Bias: 1.6736081533963443e-06, Loss: 5.570655156779403e-13\n",
      "Epoch 7000, Weight: 1.999999761581421, Bias: 7.145840186240093e-07, Loss: 1.364242106869501e-13\n",
      "Epoch 8000, Weight: 1.999999761581421, Bias: 7.003395126048417e-07, Loss: 9.094947153254554e-14\n",
      "Epoch 9000, Weight: 2.0, Bias: 3.863859987518481e-08, Loss: 0.0\n"
     ]
    }
   ],
   "source": [
    "# Training loop\n",
    "learning_rate = 0.01\n",
    "n_epochs = 10000\n",
    "\n",
    "# Mean Squared Error (MSE) loss function\n",
    "loss = nn.MSELoss()\n",
    "# Optimizer (Stochastic Gradient Descent)\n",
    "optimizer = torch.optim.Adam(model.parameters(), lr=learning_rate)\n",
    "\n",
    "for epoch in range(n_epochs):\n",
    "    # Forward pass\n",
    "    y_pred = model(x)\n",
    "\n",
    "    # Compute loss\n",
    "    l = loss(y, y_pred)\n",
    "\n",
    "    # Compute gradients using backward pass\n",
    "    l.backward()  # This computes the gradients of the loss w.r.t.(with respect to) the weights\n",
    "\n",
    "    # Update weights\n",
    "    optimizer.step()  # This updates the weights using the computed gradients\n",
    "\n",
    "    # Zero the gradients after updating weights\n",
    "    optimizer.zero_grad()  # This clears the gradients for the next iteration\n",
    "\n",
    "    # Print loss and weight every 2 epochs\n",
    "    if epoch % 1000 == 0:\n",
    "        # Print the model parameters (weights and bias)\n",
    "        [w, b] = model.parameters()\n",
    "        print(f\"Epoch {epoch}, Weight: {w[0][0].item()}, Bias: {b[0]}, Loss: {l}\")\n",
    "        # print(f\"Epoch {epoch}, Weight: {w}, Loss: {l}\")\n"
   ]
  },
  {
   "cell_type": "code",
   "execution_count": 57,
   "id": "2ca3219c",
   "metadata": {},
   "outputs": [
    {
     "name": "stdout",
     "output_type": "stream",
     "text": [
      "x_test shape: torch.Size([1])\n",
      "Prediction: tensor([12.], grad_fn=<ViewBackward0>)\n",
      "x_test shape: torch.Size([3, 1])\n",
      "Prediction: tensor([[12.],\n",
      "        [14.],\n",
      "        [16.]], grad_fn=<AddmmBackward0>)\n"
     ]
    }
   ],
   "source": [
    "x_test = torch.tensor([6], dtype=torch.float32)\n",
    "print(f\"x_test shape: {x_test.shape}\")  # Output: torch.Size([1])\n",
    "print(f\"Prediction: {model(x_test)}\")\n",
    "\n",
    "x_test = torch.tensor([6, 7, 8], dtype=torch.float32).reshape(-1, 1)\n",
    "print(f\"x_test shape: {x_test.shape}\")  # Output: torch.Size([3, 1])\n",
    "print(f\"Prediction: {model(x_test)}\")\n"
   ]
  },
  {
   "cell_type": "code",
   "execution_count": null,
   "id": "cdc7e9bc",
   "metadata": {},
   "outputs": [],
   "source": []
  }
 ],
 "metadata": {
  "kernelspec": {
   "display_name": ".venv",
   "language": "python",
   "name": "python3"
  },
  "language_info": {
   "codemirror_mode": {
    "name": "ipython",
    "version": 3
   },
   "file_extension": ".py",
   "mimetype": "text/x-python",
   "name": "python",
   "nbconvert_exporter": "python",
   "pygments_lexer": "ipython3",
   "version": "3.13.1"
  }
 },
 "nbformat": 4,
 "nbformat_minor": 5
}
