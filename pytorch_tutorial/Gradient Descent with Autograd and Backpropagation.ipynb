{
 "cells": [
  {
   "cell_type": "code",
   "execution_count": 10,
   "id": "bdebe7e1",
   "metadata": {},
   "outputs": [],
   "source": [
    "# Understanding core basics first so everything will be done manually for now\n",
    "\n",
    "import numpy as np\n",
    "\n",
    "# f = w0 + w1*x1 + w2*x2 + ... + wn*xn\n",
    "\n",
    "# f = 2 * x\n",
    "\n",
    "x = np.array([1, 2, 3, 4, 5], dtype=np.float32)\n",
    "y = np.array([2, 4, 6, 8, 10], dtype=np.float32)\n",
    "\n",
    "w = np.random.rand(1)  # Random weight initialization"
   ]
  },
  {
   "cell_type": "code",
   "execution_count": 6,
   "id": "b04c9725",
   "metadata": {},
   "outputs": [],
   "source": [
    "# model prediction\n",
    "def forward(x):\n",
    "    return w * x"
   ]
  },
  {
   "cell_type": "code",
   "execution_count": 7,
   "id": "b545063d",
   "metadata": {},
   "outputs": [],
   "source": [
    "# loss function - mean squared error\n",
    "def loss(y, y_pred):\n",
    "    return ((y_pred - y) ** 2).mean()  # Mean Squared Error (MSE)"
   ]
  },
  {
   "cell_type": "code",
   "execution_count": 14,
   "id": "f2de9db0",
   "metadata": {},
   "outputs": [],
   "source": [
    "# gradient descent\n",
    "# mse = 1/n * (w*x - y)^2\n",
    "# dL/dw = 1/n * 2x(w*x - y)\n",
    "def gradient(x, y, y_pred):\n",
    "    return np.dot(2 * x * (y_pred - y)).mean()  # Gradient of the loss function"
   ]
  },
  {
   "cell_type": "code",
   "execution_count": 15,
   "id": "13adcfb5",
   "metadata": {},
   "outputs": [
    {
     "name": "stdout",
     "output_type": "stream",
     "text": [
      "Initial weight: [0.13327959], Initial loss: 38.33109616875655\n",
      "Prediction before training: f(5) = [0.66639793]\n"
     ]
    }
   ],
   "source": [
    "print(f\"Initial weight: {w}, Initial loss: {loss(y, forward(x))}\")\n",
    "print(f\"Prediction before training: f(5) = {forward(5)}\")"
   ]
  },
  {
   "cell_type": "code",
   "execution_count": 16,
   "id": "44a3b933",
   "metadata": {},
   "outputs": [
    {
     "ename": "TypeError",
     "evalue": "dot() missing 1 required positional argument: 'b'",
     "output_type": "error",
     "traceback": [
      "\u001b[31m---------------------------------------------------------------------------\u001b[39m",
      "\u001b[31mTypeError\u001b[39m                                 Traceback (most recent call last)",
      "\u001b[36mCell\u001b[39m\u001b[36m \u001b[39m\u001b[32mIn[16]\u001b[39m\u001b[32m, line 12\u001b[39m\n\u001b[32m      9\u001b[39m l = loss(y, y_pred)\n\u001b[32m     11\u001b[39m \u001b[38;5;66;03m# Compute gradients\u001b[39;00m\n\u001b[32m---> \u001b[39m\u001b[32m12\u001b[39m dw = \u001b[43mgradient\u001b[49m\u001b[43m(\u001b[49m\u001b[43mx\u001b[49m\u001b[43m,\u001b[49m\u001b[43m \u001b[49m\u001b[43my\u001b[49m\u001b[43m,\u001b[49m\u001b[43m \u001b[49m\u001b[43my_pred\u001b[49m\u001b[43m)\u001b[49m\n\u001b[32m     14\u001b[39m \u001b[38;5;66;03m# Update weights\u001b[39;00m\n\u001b[32m     15\u001b[39m w -= learning_rate * dw\n",
      "\u001b[36mCell\u001b[39m\u001b[36m \u001b[39m\u001b[32mIn[14]\u001b[39m\u001b[32m, line 5\u001b[39m, in \u001b[36mgradient\u001b[39m\u001b[34m(x, y, y_pred)\u001b[39m\n\u001b[32m      4\u001b[39m \u001b[38;5;28;01mdef\u001b[39;00m\u001b[38;5;250m \u001b[39m\u001b[34mgradient\u001b[39m(x, y, y_pred):\n\u001b[32m----> \u001b[39m\u001b[32m5\u001b[39m     \u001b[38;5;28;01mreturn\u001b[39;00m \u001b[43mnp\u001b[49m\u001b[43m.\u001b[49m\u001b[43mdot\u001b[49m\u001b[43m(\u001b[49m\u001b[32;43m2\u001b[39;49m\u001b[43m \u001b[49m\u001b[43m*\u001b[49m\u001b[43m \u001b[49m\u001b[43mx\u001b[49m\u001b[43m \u001b[49m\u001b[43m*\u001b[49m\u001b[43m \u001b[49m\u001b[43m(\u001b[49m\u001b[43my_pred\u001b[49m\u001b[43m \u001b[49m\u001b[43m-\u001b[49m\u001b[43m \u001b[49m\u001b[43my\u001b[49m\u001b[43m)\u001b[49m\u001b[43m)\u001b[49m.mean()\n",
      "\u001b[31mTypeError\u001b[39m: dot() missing 1 required positional argument: 'b'"
     ]
    }
   ],
   "source": [
    "# Training loop\n",
    "learning_rate = 0.01\n",
    "n_epochs = 100\n",
    "for epoch in range(n_epochs):\n",
    "    # Forward pass\n",
    "    y_pred = forward(x)\n",
    "\n",
    "    # Compute loss\n",
    "    l = loss(y, y_pred)\n",
    "\n",
    "    # Compute gradients\n",
    "    dw = gradient(x, y, y_pred)\n",
    "\n",
    "    # Update weights\n",
    "    w -= learning_rate * dw\n",
    "\n",
    "    if epoch % 10 == 0:\n",
    "        print(f\"Epoch {epoch}, Loss: {l:.3f}, Weight: {w:.3f}\")"
   ]
  },
  {
   "cell_type": "code",
   "execution_count": null,
   "id": "c330cdb0",
   "metadata": {},
   "outputs": [],
   "source": [
    "print(f\"Prediction after training: f(5) = {forward(5)}\")\n",
    "print(f\"Final weight: {w}, Final loss: {loss(y, forward(x))}\")"
   ]
  }
 ],
 "metadata": {
  "kernelspec": {
   "display_name": ".venv",
   "language": "python",
   "name": "python3"
  },
  "language_info": {
   "codemirror_mode": {
    "name": "ipython",
    "version": 3
   },
   "file_extension": ".py",
   "mimetype": "text/x-python",
   "name": "python",
   "nbconvert_exporter": "python",
   "pygments_lexer": "ipython3",
   "version": "3.13.1"
  }
 },
 "nbformat": 4,
 "nbformat_minor": 5
}
