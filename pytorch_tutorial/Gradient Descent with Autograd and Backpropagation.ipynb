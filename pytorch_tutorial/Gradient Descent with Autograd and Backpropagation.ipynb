{
 "cells": [
  {
   "cell_type": "code",
   "execution_count": 40,
   "id": "bdebe7e1",
   "metadata": {},
   "outputs": [],
   "source": [
    "# Understanding core basics first so everything will be done manually for now\n",
    "\n",
    "import numpy as np\n",
    "\n",
    "# f = w0 + w1*x1 + w2*x2 + ... + wn*xn\n",
    "\n",
    "# f = 2 * x\n",
    "\n",
    "x = np.array([1, 2, 3, 4, 5], dtype=np.float32)\n",
    "y = np.array([2, 4, 6, 8, 10], dtype=np.float32)\n",
    "\n",
    "w = np.random.rand(1)  # Random weight initialization"
   ]
  },
  {
   "cell_type": "code",
   "execution_count": 28,
   "id": "b04c9725",
   "metadata": {},
   "outputs": [],
   "source": [
    "# model prediction\n",
    "def forward(x):\n",
    "    return w * x"
   ]
  },
  {
   "cell_type": "code",
   "execution_count": 29,
   "id": "b545063d",
   "metadata": {},
   "outputs": [],
   "source": [
    "# loss function - mean squared error\n",
    "def loss(y, y_pred):\n",
    "    return ((y_pred - y) ** 2).mean()  # Mean Squared Error (MSE)"
   ]
  },
  {
   "cell_type": "code",
   "execution_count": 30,
   "id": "f2de9db0",
   "metadata": {},
   "outputs": [],
   "source": [
    "# gradient descent\n",
    "# mse = 1/n * (w*x - y)^2\n",
    "# dL/dw = 1/n * 2x(w*x - y)\n",
    "def gradient(x, y, y_pred):\n",
    "    return np.dot(2 * x, y_pred - y).mean()  # Gradient of the loss function"
   ]
  },
  {
   "cell_type": "code",
   "execution_count": 36,
   "id": "13adcfb5",
   "metadata": {},
   "outputs": [
    {
     "name": "stdout",
     "output_type": "stream",
     "text": [
      "Initial weight: [0.08369585], Initial loss: 40.3944374779815\n",
      "Prediction before training: f(5) = [0.41847926]\n"
     ]
    }
   ],
   "source": [
    "print(f\"Initial weight: {w}, Initial loss: {loss(y, forward(x))}\")\n",
    "print(f\"Prediction before training: f(5) = {forward(5)}\")"
   ]
  },
  {
   "cell_type": "code",
   "execution_count": null,
   "id": "44a3b933",
   "metadata": {},
   "outputs": [
    {
     "name": "stdout",
     "output_type": "stream",
     "text": [
      "Epoch 0, Weight: 2.0, Loss: 0.0\n",
      "Epoch 2, Weight: 2.0, Loss: 0.0\n",
      "Epoch 4, Weight: 2.0, Loss: 0.0\n",
      "Epoch 6, Weight: 2.0, Loss: 0.0\n",
      "Epoch 8, Weight: 2.0, Loss: 0.0\n",
      "Epoch 10, Weight: 2.0, Loss: 0.0\n",
      "Epoch 12, Weight: 2.0, Loss: 0.0\n",
      "Epoch 14, Weight: 2.0, Loss: 0.0\n",
      "Epoch 16, Weight: 2.0, Loss: 0.0\n",
      "Epoch 18, Weight: 2.0, Loss: 0.0\n"
     ]
    }
   ],
   "source": [
    "# Training loop\n",
    "learning_rate = 0.01\n",
    "n_epochs = 20\n",
    "\n",
    "for epoch in range(n_epochs):\n",
    "    # Forward pass\n",
    "    y_pred = forward(x)\n",
    "\n",
    "    # Compute loss\n",
    "    l = loss(y, y_pred)\n",
    "\n",
    "    # Compute gradients\n",
    "    dw = gradient(x, y, y_pred)\n",
    "\n",
    "    # Update weights\n",
    "    w -= learning_rate * dw\n",
    "\n",
    "    if epoch % 2 == 0:\n",
    "        print(f\"Epoch {epoch}, Weight: {w}, Loss: {l}\")"
   ]
  },
  {
   "cell_type": "code",
   "execution_count": 24,
   "id": "c330cdb0",
   "metadata": {},
   "outputs": [
    {
     "name": "stdout",
     "output_type": "stream",
     "text": [
      "Prediction after training: f(5) = [10.]\n",
      "Final weight: [2.], Final loss: 0.0\n"
     ]
    }
   ],
   "source": [
    "print(f\"Prediction after training: f(5) = {forward(5)}\")\n",
    "print(f\"Final weight: {w}, Final loss: {loss(y, forward(x))}\")"
   ]
  },
  {
   "cell_type": "code",
   "execution_count": 42,
   "id": "aaa6553a",
   "metadata": {},
   "outputs": [],
   "source": [
    "# Now we will use pytorch to do the same thing\n",
    "import torch\n",
    "\n",
    "x = torch.tensor([1, 2, 3, 4, 5], dtype=torch.float32)\n",
    "y = torch.tensor([2, 4, 6, 8, 10], dtype=torch.float32)\n",
    "\n",
    "# w = torch.rand(1, requires_grad=True)  # Random weight initialization\n",
    "w = torch.tensor(0.0, dtype=torch.float32, requires_grad=True)  # Random weight initialization\n"
   ]
  },
  {
   "cell_type": "code",
   "execution_count": 43,
   "id": "1a2682b5",
   "metadata": {},
   "outputs": [],
   "source": [
    "# model prediction\n",
    "def forward(x):\n",
    "    return w * x\n",
    "\n",
    "\n",
    "# loss function - mean squared error\n",
    "def loss(y, y_pred):\n",
    "    return ((y_pred - y) ** 2).mean()  # Mean Squared Error (MSE)\n"
   ]
  },
  {
   "cell_type": "code",
   "execution_count": 44,
   "id": "938d82a2",
   "metadata": {},
   "outputs": [
    {
     "name": "stdout",
     "output_type": "stream",
     "text": [
      "Initial weight: 0.0, Initial loss: 44.0\n",
      "Prediction before training: f(5) = 0.0\n"
     ]
    }
   ],
   "source": [
    "print(f\"Initial weight: {w}, Initial loss: {loss(y, forward(x))}\")\n",
    "print(f\"Prediction before training: f(5) = {forward(5)}\")"
   ]
  },
  {
   "cell_type": "code",
   "execution_count": 47,
   "id": "d83ca66a",
   "metadata": {},
   "outputs": [
    {
     "name": "stdout",
     "output_type": "stream",
     "text": [
      "Epoch 0, Weight: 1.989160418510437, Loss: 0.0021243751980364323\n",
      "Epoch 10, Weight: 1.9990965127944946, Loss: 1.4759581063117366e-05\n",
      "Epoch 20, Weight: 1.999924659729004, Loss: 1.0254276361365555e-07\n",
      "Epoch 30, Weight: 1.9999936819076538, Loss: 7.151356729018232e-10\n",
      "Epoch 40, Weight: 1.9999994039535522, Loss: 5.7866602135026035e-12\n",
      "Epoch 50, Weight: 1.999999761581421, Loss: 6.025402616086084e-13\n",
      "Epoch 60, Weight: 1.999999761581421, Loss: 6.025402616086084e-13\n",
      "Epoch 70, Weight: 1.999999761581421, Loss: 6.025402616086084e-13\n",
      "Epoch 80, Weight: 1.999999761581421, Loss: 6.025402616086084e-13\n",
      "Epoch 90, Weight: 1.999999761581421, Loss: 6.025402616086084e-13\n"
     ]
    }
   ],
   "source": [
    "# Training loop\n",
    "learning_rate = 0.01\n",
    "n_epochs = 100\n",
    "\n",
    "for epoch in range(n_epochs):\n",
    "    # Forward pass\n",
    "    y_pred = forward(x)\n",
    "\n",
    "    # Compute loss\n",
    "    l = loss(y, y_pred)\n",
    "\n",
    "    # Compute gradients using backward pass\n",
    "    l.backward()  # This computes the gradients of the loss w.r.t.(with respect to) the weights\n",
    "\n",
    "    # Update weights\n",
    "    with torch.no_grad():\n",
    "        w -= learning_rate * w.grad\n",
    "\n",
    "    # Zero the gradients after updating weights\n",
    "    w.grad.zero_()\n",
    "\n",
    "    # Print loss and weight every 2 epochs\n",
    "    if epoch % 10 == 0:\n",
    "        print(f\"Epoch {epoch}, Weight: {w}, Loss: {l}\")\n"
   ]
  },
  {
   "cell_type": "code",
   "execution_count": 46,
   "id": "74729238",
   "metadata": {},
   "outputs": [
    {
     "name": "stdout",
     "output_type": "stream",
     "text": [
      "Prediction after training: f(5) = 9.93051528930664\n",
      "Final weight: 1.9861030578613281, Final loss: 0.0021243751980364323\n"
     ]
    }
   ],
   "source": [
    "print(f\"Prediction after training: f(5) = {forward(5)}\")\n",
    "print(f\"Final weight: {w}, Final loss: {loss(y, forward(x))}\")\n"
   ]
  },
  {
   "cell_type": "code",
   "execution_count": null,
   "id": "2bc3a459",
   "metadata": {},
   "outputs": [],
   "source": []
  }
 ],
 "metadata": {
  "kernelspec": {
   "display_name": ".venv",
   "language": "python",
   "name": "python3"
  },
  "language_info": {
   "codemirror_mode": {
    "name": "ipython",
    "version": 3
   },
   "file_extension": ".py",
   "mimetype": "text/x-python",
   "name": "python",
   "nbconvert_exporter": "python",
   "pygments_lexer": "ipython3",
   "version": "3.13.1"
  }
 },
 "nbformat": 4,
 "nbformat_minor": 5
}
