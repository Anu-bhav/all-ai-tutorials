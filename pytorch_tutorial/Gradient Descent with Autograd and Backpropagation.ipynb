{
 "cells": [
  {
   "cell_type": "code",
   "execution_count": 35,
   "id": "bdebe7e1",
   "metadata": {},
   "outputs": [],
   "source": [
    "# Understanding core basics first so everything will be done manually for now\n",
    "\n",
    "import numpy as np\n",
    "\n",
    "# f = w0 + w1*x1 + w2*x2 + ... + wn*xn\n",
    "\n",
    "# f = 2 * x\n",
    "\n",
    "x = np.array([1, 2, 3, 4, 5], dtype=np.float32)\n",
    "y = np.array([2, 4, 6, 8, 10], dtype=np.float32)\n",
    "\n",
    "w = np.random.rand(1)  # Random weight initialization"
   ]
  },
  {
   "cell_type": "code",
   "execution_count": 28,
   "id": "b04c9725",
   "metadata": {},
   "outputs": [],
   "source": [
    "# model prediction\n",
    "def forward(x):\n",
    "    return w * x"
   ]
  },
  {
   "cell_type": "code",
   "execution_count": 29,
   "id": "b545063d",
   "metadata": {},
   "outputs": [],
   "source": [
    "# loss function - mean squared error\n",
    "def loss(y, y_pred):\n",
    "    return ((y_pred - y) ** 2).mean()  # Mean Squared Error (MSE)"
   ]
  },
  {
   "cell_type": "code",
   "execution_count": 30,
   "id": "f2de9db0",
   "metadata": {},
   "outputs": [],
   "source": [
    "# gradient descent\n",
    "# mse = 1/n * (w*x - y)^2\n",
    "# dL/dw = 1/n * 2x(w*x - y)\n",
    "def gradient(x, y, y_pred):\n",
    "    return np.dot(2 * x, y_pred - y).mean()  # Gradient of the loss function"
   ]
  },
  {
   "cell_type": "code",
   "execution_count": 36,
   "id": "13adcfb5",
   "metadata": {},
   "outputs": [
    {
     "name": "stdout",
     "output_type": "stream",
     "text": [
      "Initial weight: [0.08369585], Initial loss: 40.3944374779815\n",
      "Prediction before training: f(5) = [0.41847926]\n"
     ]
    }
   ],
   "source": [
    "print(f\"Initial weight: {w}, Initial loss: {loss(y, forward(x))}\")\n",
    "print(f\"Prediction before training: f(5) = {forward(5)}\")"
   ]
  },
  {
   "cell_type": "code",
   "execution_count": 37,
   "id": "44a3b933",
   "metadata": {},
   "outputs": [
    {
     "name": "stdout",
     "output_type": "stream",
     "text": [
      "Epoch 0, Weight: [2.19163041], Loss: 40.3944374779815\n",
      "Epoch 2, Weight: [2.0019163], Loss: 0.004039443747798173\n",
      "Epoch 4, Weight: [2.00001916], Loss: 4.039443747800102e-07\n",
      "Epoch 6, Weight: [2.00000019], Loss: 4.0394437474721226e-11\n",
      "Epoch 8, Weight: [2.], Loss: 4.039443695730715e-15\n",
      "Epoch 10, Weight: [2.], Loss: 4.039447225721113e-19\n",
      "Epoch 12, Weight: [2.], Loss: 4.0392622257884955e-23\n",
      "Epoch 14, Weight: [2.], Loss: 4.0180235776979624e-27\n",
      "Epoch 16, Weight: [2.], Loss: 9.959368928415274e-31\n",
      "Epoch 18, Weight: [2.], Loss: 0.0\n"
     ]
    }
   ],
   "source": [
    "# Training loop\n",
    "learning_rate = 0.01\n",
    "n_epochs = 20\n",
    "\n",
    "for epoch in range(n_epochs):\n",
    "    # Forward pass\n",
    "    y_pred = forward(x)\n",
    "\n",
    "    # Compute loss\n",
    "    l = loss(y, y_pred)\n",
    "\n",
    "    # Compute gradients\n",
    "    dw = gradient(x, y, y_pred)\n",
    "\n",
    "    # Update weights\n",
    "    w -= learning_rate * dw\n",
    "\n",
    "    if epoch % 2 == 0:\n",
    "        print(f\"Epoch {epoch}, Weight: {w}, Loss: {l}\")"
   ]
  },
  {
   "cell_type": "code",
   "execution_count": 24,
   "id": "c330cdb0",
   "metadata": {},
   "outputs": [
    {
     "name": "stdout",
     "output_type": "stream",
     "text": [
      "Prediction after training: f(5) = [10.]\n",
      "Final weight: [2.], Final loss: 0.0\n"
     ]
    }
   ],
   "source": [
    "print(f\"Prediction after training: f(5) = {forward(5)}\")\n",
    "print(f\"Final weight: {w}, Final loss: {loss(y, forward(x))}\")"
   ]
  },
  {
   "cell_type": "code",
   "execution_count": null,
   "id": "aaa6553a",
   "metadata": {},
   "outputs": [],
   "source": []
  }
 ],
 "metadata": {
  "kernelspec": {
   "display_name": ".venv",
   "language": "python",
   "name": "python3"
  },
  "language_info": {
   "codemirror_mode": {
    "name": "ipython",
    "version": 3
   },
   "file_extension": ".py",
   "mimetype": "text/x-python",
   "name": "python",
   "nbconvert_exporter": "python",
   "pygments_lexer": "ipython3",
   "version": "3.13.1"
  }
 },
 "nbformat": 4,
 "nbformat_minor": 5
}
