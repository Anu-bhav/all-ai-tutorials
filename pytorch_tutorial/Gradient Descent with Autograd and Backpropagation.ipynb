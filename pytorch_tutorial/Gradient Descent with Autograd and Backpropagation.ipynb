{
 "cells": [
  {
   "cell_type": "code",
   "execution_count": 40,
   "id": "bdebe7e1",
   "metadata": {},
   "outputs": [],
   "source": [
    "# Understanding core basics first so everything will be done manually for now\n",
    "\n",
    "import numpy as np\n",
    "\n",
    "# f = w0 + w1*x1 + w2*x2 + ... + wn*xn\n",
    "\n",
    "# f = 2 * x\n",
    "\n",
    "x = np.array([1, 2, 3, 4, 5], dtype=np.float32)\n",
    "y = np.array([2, 4, 6, 8, 10], dtype=np.float32)\n",
    "\n",
    "w = np.random.rand(1)  # Random weight initialization"
   ]
  },
  {
   "cell_type": "code",
   "execution_count": 28,
   "id": "b04c9725",
   "metadata": {},
   "outputs": [],
   "source": [
    "# model prediction\n",
    "def forward(x):\n",
    "    return w * x"
   ]
  },
  {
   "cell_type": "code",
   "execution_count": 29,
   "id": "b545063d",
   "metadata": {},
   "outputs": [],
   "source": [
    "# loss function - mean squared error\n",
    "def loss(y, y_pred):\n",
    "    return ((y_pred - y) ** 2).mean()  # Mean Squared Error (MSE)"
   ]
  },
  {
   "cell_type": "code",
   "execution_count": 30,
   "id": "f2de9db0",
   "metadata": {},
   "outputs": [],
   "source": [
    "# gradient descent\n",
    "# mse = 1/n * (w*x - y)^2\n",
    "# dL/dw = 1/n * 2x(w*x - y)\n",
    "def gradient(x, y, y_pred):\n",
    "    return np.dot(2 * x, y_pred - y).mean()  # Gradient of the loss function"
   ]
  },
  {
   "cell_type": "code",
   "execution_count": 36,
   "id": "13adcfb5",
   "metadata": {},
   "outputs": [
    {
     "name": "stdout",
     "output_type": "stream",
     "text": [
      "Initial weight: [0.08369585], Initial loss: 40.3944374779815\n",
      "Prediction before training: f(5) = [0.41847926]\n"
     ]
    }
   ],
   "source": [
    "print(f\"Initial weight: {w}, Initial loss: {loss(y, forward(x))}\")\n",
    "print(f\"Prediction before training: f(5) = {forward(5)}\")"
   ]
  },
  {
   "cell_type": "code",
   "execution_count": null,
   "id": "44a3b933",
   "metadata": {},
   "outputs": [
    {
     "name": "stdout",
     "output_type": "stream",
     "text": [
      "Epoch 0, Weight: 2.0, Loss: 0.0\n",
      "Epoch 2, Weight: 2.0, Loss: 0.0\n",
      "Epoch 4, Weight: 2.0, Loss: 0.0\n",
      "Epoch 6, Weight: 2.0, Loss: 0.0\n",
      "Epoch 8, Weight: 2.0, Loss: 0.0\n",
      "Epoch 10, Weight: 2.0, Loss: 0.0\n",
      "Epoch 12, Weight: 2.0, Loss: 0.0\n",
      "Epoch 14, Weight: 2.0, Loss: 0.0\n",
      "Epoch 16, Weight: 2.0, Loss: 0.0\n",
      "Epoch 18, Weight: 2.0, Loss: 0.0\n"
     ]
    }
   ],
   "source": [
    "# Training loop\n",
    "learning_rate = 0.01\n",
    "n_epochs = 20\n",
    "\n",
    "for epoch in range(n_epochs):\n",
    "    # Forward pass\n",
    "    y_pred = forward(x)\n",
    "\n",
    "    # Compute loss\n",
    "    l = loss(y, y_pred)\n",
    "\n",
    "    # Compute gradients\n",
    "    dw = gradient(x, y, y_pred)\n",
    "\n",
    "    # Update weights\n",
    "    w -= learning_rate * dw\n",
    "\n",
    "    if epoch % 2 == 0:\n",
    "        print(f\"Epoch {epoch}, Weight: {w}, Loss: {l}\")"
   ]
  },
  {
   "cell_type": "code",
   "execution_count": 24,
   "id": "c330cdb0",
   "metadata": {},
   "outputs": [
    {
     "name": "stdout",
     "output_type": "stream",
     "text": [
      "Prediction after training: f(5) = [10.]\n",
      "Final weight: [2.], Final loss: 0.0\n"
     ]
    }
   ],
   "source": [
    "print(f\"Prediction after training: f(5) = {forward(5)}\")\n",
    "print(f\"Final weight: {w}, Final loss: {loss(y, forward(x))}\")"
   ]
  },
  {
   "cell_type": "code",
   "execution_count": 71,
   "id": "aaa6553a",
   "metadata": {},
   "outputs": [],
   "source": [
    "# Now we will use pytorch to do the same thing\n",
    "import torch\n",
    "\n",
    "x = torch.tensor([1, 2, 3, 4, 5], dtype=torch.float32)\n",
    "y = torch.tensor([2, 4, 6, 8, 10], dtype=torch.float32)\n",
    "\n",
    "# Random weight initialization\n",
    "w = torch.rand(1, dtype=torch.float32, requires_grad=True)\n",
    "\n",
    "# tensor weight initialization to 0.0 - for some reason this doesn't work properly. the gradient never goes to 2, it stays around 1.99999...\n",
    "# w = torch.tensor(0.0, dtype=torch.float32, requires_grad=True)\n"
   ]
  },
  {
   "cell_type": "code",
   "execution_count": 72,
   "id": "1a2682b5",
   "metadata": {},
   "outputs": [],
   "source": [
    "# model prediction\n",
    "def forward(x):\n",
    "    return w * x\n",
    "\n",
    "\n",
    "# loss function - mean squared error\n",
    "def loss(y, y_pred):\n",
    "    return ((y_pred - y) ** 2).mean()  # Mean Squared Error (MSE)\n"
   ]
  },
  {
   "cell_type": "code",
   "execution_count": 73,
   "id": "938d82a2",
   "metadata": {},
   "outputs": [
    {
     "name": "stdout",
     "output_type": "stream",
     "text": [
      "Initial weight: tensor([0.1110], requires_grad=True), Initial loss: 39.249542236328125\n",
      "Prediction before training: f(5) = tensor([0.5552], grad_fn=<MulBackward0>)\n"
     ]
    }
   ],
   "source": [
    "print(f\"Initial weight: {w}, Initial loss: {loss(y, forward(x))}\")\n",
    "print(f\"Prediction before training: f(5) = {forward(5)}\")"
   ]
  },
  {
   "cell_type": "code",
   "execution_count": 74,
   "id": "d83ca66a",
   "metadata": {},
   "outputs": [
    {
     "name": "stdout",
     "output_type": "stream",
     "text": [
      "Epoch 0, Weight: tensor([0.5266], requires_grad=True), Loss: 39.249542236328125\n",
      "Epoch 2, Weight: tensor([1.1036], requires_grad=True), Loss: 14.528242111206055\n",
      "Epoch 4, Weight: tensor([1.4546], requires_grad=True), Loss: 5.377638339996338\n",
      "Epoch 6, Weight: tensor([1.6682], requires_grad=True), Loss: 1.9905364513397217\n",
      "Epoch 8, Weight: tensor([1.7981], requires_grad=True), Loss: 0.7367981672286987\n",
      "Epoch 10, Weight: tensor([1.8772], requires_grad=True), Loss: 0.2727263569831848\n",
      "Epoch 12, Weight: tensor([1.9253], requires_grad=True), Loss: 0.1009499579668045\n",
      "Epoch 14, Weight: tensor([1.9545], requires_grad=True), Loss: 0.037366557866334915\n",
      "Epoch 16, Weight: tensor([1.9723], requires_grad=True), Loss: 0.013831275515258312\n",
      "Epoch 18, Weight: tensor([1.9832], requires_grad=True), Loss: 0.005119616165757179\n",
      "Epoch 20, Weight: tensor([1.9898], requires_grad=True), Loss: 0.0018949974328279495\n",
      "Epoch 22, Weight: tensor([1.9938], requires_grad=True), Loss: 0.0007014230359345675\n",
      "Epoch 24, Weight: tensor([1.9962], requires_grad=True), Loss: 0.0002596281992737204\n",
      "Epoch 26, Weight: tensor([1.9977], requires_grad=True), Loss: 9.610420238459483e-05\n",
      "Epoch 28, Weight: tensor([1.9986], requires_grad=True), Loss: 3.557144009391777e-05\n",
      "Epoch 30, Weight: tensor([1.9991], requires_grad=True), Loss: 1.3165740710974205e-05\n",
      "Epoch 32, Weight: tensor([1.9995], requires_grad=True), Loss: 4.8718870857555885e-06\n",
      "Epoch 34, Weight: tensor([1.9997], requires_grad=True), Loss: 1.8038260805042228e-06\n",
      "Epoch 36, Weight: tensor([1.9998], requires_grad=True), Loss: 6.678964155071299e-07\n",
      "Epoch 38, Weight: tensor([1.9999], requires_grad=True), Loss: 2.471209370469296e-07\n",
      "Epoch 40, Weight: tensor([1.9999], requires_grad=True), Loss: 9.13299089688735e-08\n",
      "Epoch 42, Weight: tensor([2.0000], requires_grad=True), Loss: 3.384776903203601e-08\n",
      "Epoch 44, Weight: tensor([2.0000], requires_grad=True), Loss: 1.2522687775629038e-08\n",
      "Epoch 46, Weight: tensor([2.0000], requires_grad=True), Loss: 4.6441526180274195e-09\n",
      "Epoch 48, Weight: tensor([2.0000], requires_grad=True), Loss: 1.7341932334602461e-09\n"
     ]
    }
   ],
   "source": [
    "# Training loop\n",
    "learning_rate = 0.01\n",
    "n_epochs = 50\n",
    "\n",
    "for epoch in range(n_epochs):\n",
    "    # Forward pass\n",
    "    y_pred = forward(x)\n",
    "\n",
    "    # Compute loss\n",
    "    l = loss(y, y_pred)\n",
    "\n",
    "    # Compute gradients using backward pass\n",
    "    l.backward()  # This computes the gradients of the loss w.r.t.(with respect to) the weights\n",
    "\n",
    "    # Update weights\n",
    "    with torch.no_grad():\n",
    "        w -= learning_rate * w.grad\n",
    "\n",
    "    # Zero the gradients after updating weights\n",
    "    w.grad.zero_()\n",
    "\n",
    "    # Print loss and weight every 2 epochs\n",
    "    if epoch % 2 == 0:\n",
    "        print(f\"Epoch {epoch}, Weight: {w}, Loss: {l}\")\n"
   ]
  },
  {
   "cell_type": "code",
   "execution_count": 75,
   "id": "74729238",
   "metadata": {},
   "outputs": [
    {
     "name": "stdout",
     "output_type": "stream",
     "text": [
      "Prediction after training: f(5) = tensor([10.0000], grad_fn=<MulBackward0>)\n",
      "Final weight: tensor([2.0000], requires_grad=True), Final loss: 6.402842700481415e-10\n"
     ]
    }
   ],
   "source": [
    "print(f\"Prediction after training: f(5) = {forward(5)}\")\n",
    "print(f\"Final weight: {w}, Final loss: {loss(y, forward(x))}\")\n"
   ]
  }
 ],
 "metadata": {
  "kernelspec": {
   "display_name": ".venv",
   "language": "python",
   "name": "python3"
  },
  "language_info": {
   "codemirror_mode": {
    "name": "ipython",
    "version": 3
   },
   "file_extension": ".py",
   "mimetype": "text/x-python",
   "name": "python",
   "nbconvert_exporter": "python",
   "pygments_lexer": "ipython3",
   "version": "3.13.1"
  }
 },
 "nbformat": 4,
 "nbformat_minor": 5
}
